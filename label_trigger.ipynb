{
  "nbformat": 4,
  "nbformat_minor": 0,
  "metadata": {
    "colab": {
      "provenance": [],
      "authorship_tag": "ABX9TyOz6HBxQLdACiytf7ybsr6X",
      "include_colab_link": true
    },
    "kernelspec": {
      "name": "python3",
      "display_name": "Python 3"
    },
    "language_info": {
      "name": "python"
    }
  },
  "cells": [
    {
      "cell_type": "markdown",
      "metadata": {
        "id": "view-in-github",
        "colab_type": "text"
      },
      "source": [
        "<a href=\"https://colab.research.google.com/github/Rain1618/Hide-It/blob/main/label_trigger.ipynb\" target=\"_parent\"><img src=\"https://colab.research.google.com/assets/colab-badge.svg\" alt=\"Open In Colab\"/></a>"
      ]
    },
    {
      "cell_type": "code",
      "execution_count": 5,
      "metadata": {
        "id": "dtE4LUoqSY5b"
      },
      "outputs": [],
      "source": [
        "import pandas as pd\n",
        "import pickle\n",
        "import numpy as np\n"
      ]
    },
    {
      "cell_type": "code",
      "source": [
        "model = pickle.load(open('/content/SVC_proba.sav', 'rb'))"
      ],
      "metadata": {
        "id": "fX2fUyHHS5Qt"
      },
      "execution_count": 2,
      "outputs": []
    },
    {
      "cell_type": "code",
      "source": [
        "df = pd.read_csv('/content/spacy_HideIt_data.csv')\n",
        "df = df[df['trigger'].isin(['safe', 'addiction','abuse','sexual violence', 'suicide', 'eating disorder'])] \n",
        "X = df['token_text']\n",
        "y = df['trigger'].astype(str)"
      ],
      "metadata": {
        "id": "7UfE9R9qTSqT"
      },
      "execution_count": 7,
      "outputs": []
    },
    {
      "cell_type": "code",
      "source": [
        "with open('tfidf_vectorizer.pkl', 'rb') as f:\n",
        "    vectorizer = pickle.load(f)\n",
        "\n",
        "X_vec = vectorizer.transform(X)"
      ],
      "metadata": {
        "id": "Zp9rwRn-T5Z-"
      },
      "execution_count": 9,
      "outputs": []
    },
    {
      "cell_type": "code",
      "source": [
        "model.predict_proba(X_vec)[0]"
      ],
      "metadata": {
        "colab": {
          "base_uri": "https://localhost:8080/"
        },
        "id": "gAKWhKJJTGI0",
        "outputId": "ebf49923-8992-4f23-df4c-aadd1e17bbb9"
      },
      "execution_count": 11,
      "outputs": [
        {
          "output_type": "execute_result",
          "data": {
            "text/plain": [
              "array([0.07551514, 0.25289965, 0.04367827, 0.28165071, 0.1053905 ,\n",
              "       0.24086573])"
            ]
          },
          "metadata": {},
          "execution_count": 11
        }
      ]
    },
    {
      "cell_type": "code",
      "source": [
        "from itertools import chain\n",
        "\n",
        "def find_trigger(threshold, model, data):\n",
        "  probabilities = model.predict_proba(data).tolist()\n",
        "  probabilities = list(chain.from_iterable(probabilities))\n",
        "  classes_names = ['safe', 'addiction', 'abuse', 'sexual violence', 'eating disorder',\n",
        "                  'suicide']\n",
        "  result = []\n",
        "  safe = True\n",
        "  for percentage, label in zip(probabilities, classes_names):\n",
        "      if percentage > threshold:\n",
        "          result.append(label)\n",
        "          safe = False\n",
        "\n",
        "  if safe:\n",
        "    return ['safe']\n",
        "\n",
        "  return result\n",
        "\n",
        "find_trigger(0.2, model, X_vec[66])\n"
      ],
      "metadata": {
        "colab": {
          "base_uri": "https://localhost:8080/"
        },
        "id": "sJ9XkYPKVciS",
        "outputId": "0b84c132-694f-476b-81e5-423df391fad8"
      },
      "execution_count": 20,
      "outputs": [
        {
          "output_type": "execute_result",
          "data": {
            "text/plain": [
              "['safe', 'addiction']"
            ]
          },
          "metadata": {},
          "execution_count": 20
        }
      ]
    },
    {
      "cell_type": "code",
      "source": [
        "model.predict_proba(X_vec[66])"
      ],
      "metadata": {
        "colab": {
          "base_uri": "https://localhost:8080/"
        },
        "id": "AGxHBl33WmMX",
        "outputId": "13411aa8-13d4-4d71-894e-52a4cea46b65"
      },
      "execution_count": 21,
      "outputs": [
        {
          "output_type": "execute_result",
          "data": {
            "text/plain": [
              "array([[2.35896623e-01, 6.84944732e-01, 5.43328039e-04, 3.43559793e-02,\n",
              "        2.71300786e-02, 1.71292585e-02]])"
            ]
          },
          "metadata": {},
          "execution_count": 21
        }
      ]
    },
    {
      "cell_type": "code",
      "source": [
        "X.iloc[66]"
      ],
      "metadata": {
        "colab": {
          "base_uri": "https://localhost:8080/",
          "height": 139
        },
        "id": "_x_vcV5FYwuu",
        "outputId": "1d3025da-dbea-415e-cc8e-fcf92d6f94c4"
      },
      "execution_count": 24,
      "outputs": [
        {
          "output_type": "execute_result",
          "data": {
            "text/plain": [
              "'has a friend become a functioning alcoholic? im 43 and have been close friends with this same-age individual for 30 years, we talk often but can go a couple months without actually seeing each other.  during the past 4-5 years both of our social drinking shifted from micro beers to whiskey/bourbon, which may have made this worse due to alcohol content.\\n\\nwe both have young families with kids of similar ages.  im very content to have an ounce or two of quality whiskey during an evening with him however, hes become on another level.  \\n\\nthese recent years, my friend seems to now gauge the quality of every weekend, even with his family, based upon the prospective goal of finishing a whole random bottle of quality bourbon in a single day.  little seems to be about spending much quality time with the kids.\\n\\nexample of our common discussions: \\nme - how was last weekend, at a cabin, with the family?  \\nhim - great, in one day i drank almost an entire bottle of knob creek 15 year single barrel.  this other guy i met helped\\nme - ergh, okay.  \\nhim - you should have seen me on thursday, at bowling, i got soooo drunk.. [then somehow gets home, everytime.]\\n\\nperhaps its bragging rights to which i think its very irresponsible of him.?.?\\n\\nour families camped together this past weekend and he started heavy drinking, by himself, by 8am.  he fully passed out cold by 6pm.  i was out with my family all day and came back to his wife pissed &amp; his kids un-phased.\\n\\nthis seems to be a growing common trend each time i see him in over night situations.  we have many campouts planned this year and expecting this to happen most weekend.  to which, id like to talk to him and his wife about this concern.  she obviously knows about a likely problem.\\n\\ni worry about functional alcoholism since he does seem to work well and takes care of things around the house.  based on his liquor cabinet contents i surmise that he drink lots of cheap booze during the week and quality liquor on weekends.\\n\\nany thoughts on how to best handle this situation?  do i discuss this with him, after getting permission from his wife?  do i try taking him to aa meeting(s)?'"
            ],
            "application/vnd.google.colaboratory.intrinsic+json": {
              "type": "string"
            }
          },
          "metadata": {},
          "execution_count": 24
        }
      ]
    }
  ]
}